{
  "nbformat": 4,
  "nbformat_minor": 0,
  "metadata": {
    "colab": {
      "provenance": [],
      "gpuType": "T4",
      "authorship_tag": "ABX9TyOBGzT/9peB7NVBZNhZ256r",
      "include_colab_link": true
    },
    "kernelspec": {
      "name": "python3",
      "display_name": "Python 3"
    },
    "language_info": {
      "name": "python"
    },
    "accelerator": "GPU"
  },
  "cells": [
    {
      "cell_type": "markdown",
      "metadata": {
        "id": "view-in-github",
        "colab_type": "text"
      },
      "source": [
        "<a href=\"https://colab.research.google.com/github/MoBanerjee/GAN/blob/main/cGANtutorial.ipynb\" target=\"_parent\"><img src=\"https://colab.research.google.com/assets/colab-badge.svg\" alt=\"Open In Colab\"/></a>"
      ]
    },
    {
      "cell_type": "code",
      "execution_count": 1,
      "metadata": {
        "colab": {
          "base_uri": "https://localhost:8080/"
        },
        "id": "0iztdFrYfT9L",
        "outputId": "15531e6b-5ff9-43bc-c128-109d17ad421e"
      },
      "outputs": [
        {
          "output_type": "stream",
          "name": "stdout",
          "text": [
            "  Preparing metadata (setup.py) ... \u001b[?25l\u001b[?25hdone\n",
            "  Building wheel for tensorflow-docs (setup.py) ... \u001b[?25l\u001b[?25hdone\n"
          ]
        }
      ],
      "source": [
        "!pip install -q git+https://github.com/tensorflow/docs"
      ]
    },
    {
      "cell_type": "code",
      "source": [
        "from tensorflow import keras\n",
        "from keras import layers\n",
        "from tensorflow_docs.vis import embed\n",
        "import tensorflow as tf\n",
        "import numpy as np\n",
        "import imageio"
      ],
      "metadata": {
        "id": "UEnPvAD1gRHO"
      },
      "execution_count": 2,
      "outputs": []
    },
    {
      "cell_type": "code",
      "source": [
        "batch_size = 64\n",
        "num_channels = 1\n",
        "num_classes = 10\n",
        "image_size = 28\n",
        "latent_dim = 128"
      ],
      "metadata": {
        "id": "1logti-Jgbi2"
      },
      "execution_count": 3,
      "outputs": []
    },
    {
      "cell_type": "code",
      "source": [
        "# We'll use all the available examples from both the training and test\n",
        "# sets.\n",
        "(x_train, y_train), (x_test, y_test) = keras.datasets.mnist.load_data()\n",
        "all_digits = np.concatenate([x_train, x_test])\n",
        "all_labels = np.concatenate([y_train, y_test])\n",
        "\n",
        "# Scale the pixel values to [0, 1] range, add a channel dimension to\n",
        "# the images, and one-hot encode the labels.\n",
        "all_digits = all_digits.astype(\"float32\") / 255.0\n",
        "all_digits = np.reshape(all_digits, (-1, 28, 28, 1))\n",
        "all_labels = keras.utils.to_categorical(all_labels, 10)\n",
        "\n",
        "# Create tf.data.Dataset.\n",
        "dataset = tf.data.Dataset.from_tensor_slices((all_digits, all_labels))\n",
        "dataset = dataset.shuffle(buffer_size=1024).batch(batch_size)\n",
        "\n",
        "print(f\"Shape of training images: {all_digits.shape}\")\n",
        "print(f\"Shape of training labels: {all_labels.shape}\")"
      ],
      "metadata": {
        "colab": {
          "base_uri": "https://localhost:8080/"
        },
        "id": "OZ3yFwQXghpU",
        "outputId": "1c157c38-885f-4744-cdce-61d643d14ea1"
      },
      "execution_count": 4,
      "outputs": [
        {
          "output_type": "stream",
          "name": "stdout",
          "text": [
            "Downloading data from https://storage.googleapis.com/tensorflow/tf-keras-datasets/mnist.npz\n",
            "11490434/11490434 [==============================] - 1s 0us/step\n",
            "Shape of training images: (70000, 28, 28, 1)\n",
            "Shape of training labels: (70000, 10)\n"
          ]
        }
      ]
    },
    {
      "cell_type": "code",
      "source": [
        "generator_in_channels = latent_dim + num_classes\n",
        "discriminator_in_channels = num_channels + num_classes\n",
        "print(generator_in_channels, discriminator_in_channels)"
      ],
      "metadata": {
        "colab": {
          "base_uri": "https://localhost:8080/"
        },
        "id": "tfcD6kMVgp5X",
        "outputId": "a3ecedbe-15b8-43b1-f160-b6a1a6dc5e91"
      },
      "execution_count": 5,
      "outputs": [
        {
          "output_type": "stream",
          "name": "stdout",
          "text": [
            "138 11\n"
          ]
        }
      ]
    },
    {
      "cell_type": "code",
      "source": [
        "# Create the discriminator.\n",
        "discriminator = keras.Sequential(\n",
        "    [\n",
        "        keras.layers.InputLayer((28, 28, discriminator_in_channels)),\n",
        "        layers.Conv2D(64, (3, 3), strides=(2, 2), padding=\"same\"),\n",
        "        layers.LeakyReLU(alpha=0.2),\n",
        "        layers.Conv2D(128, (3, 3), strides=(2, 2), padding=\"same\"),\n",
        "        layers.LeakyReLU(alpha=0.2),\n",
        "        layers.GlobalMaxPooling2D(),\n",
        "        layers.Dense(1),\n",
        "    ],\n",
        "    name=\"discriminator\",\n",
        ")\n",
        "\n",
        "# Create the generator.\n",
        "generator = keras.Sequential(\n",
        "    [\n",
        "        keras.layers.InputLayer((generator_in_channels,)),\n",
        "        # We want to generate 128 + num_classes coefficients to reshape into a\n",
        "        # 7x7x(128 + num_classes) map.\n",
        "        layers.Dense(7 * 7 * generator_in_channels),\n",
        "        layers.LeakyReLU(alpha=0.2),\n",
        "        layers.Reshape((7, 7, generator_in_channels)),\n",
        "        layers.Conv2DTranspose(128, (4, 4), strides=(2, 2), padding=\"same\"),\n",
        "        layers.LeakyReLU(alpha=0.2),\n",
        "        layers.Conv2DTranspose(128, (4, 4), strides=(2, 2), padding=\"same\"),\n",
        "        layers.LeakyReLU(alpha=0.2),\n",
        "        layers.Conv2D(1, (7, 7), padding=\"same\", activation=\"sigmoid\"),\n",
        "    ],\n",
        "    name=\"generator\",\n",
        ")"
      ],
      "metadata": {
        "id": "RDmkzFw-gtwm"
      },
      "execution_count": 6,
      "outputs": []
    },
    {
      "cell_type": "code",
      "source": [
        "class ConditionalGAN(keras.Model):\n",
        "    def __init__(self, discriminator, generator, latent_dim):\n",
        "        super().__init__()\n",
        "        self.discriminator = discriminator\n",
        "        self.generator = generator\n",
        "        self.latent_dim = latent_dim\n",
        "        self.seed_generator = tf.random.set_seed(1337)\n",
        "        self.gen_loss_tracker = keras.metrics.Mean(name=\"generator_loss\")\n",
        "        self.disc_loss_tracker = keras.metrics.Mean(name=\"discriminator_loss\")\n",
        "\n",
        "    @property\n",
        "    def metrics(self):\n",
        "        return [self.gen_loss_tracker, self.disc_loss_tracker]\n",
        "\n",
        "    def compile(self, d_optimizer, g_optimizer, loss_fn):\n",
        "        super().compile()\n",
        "        self.d_optimizer = d_optimizer\n",
        "        self.g_optimizer = g_optimizer\n",
        "        self.loss_fn = loss_fn\n",
        "\n",
        "    def train_step(self, data):\n",
        "        # Unpack the data.\n",
        "        real_images, one_hot_labels = data\n",
        "\n",
        "        # Add dummy dimensions to the labels so that they can be concatenated with\n",
        "        # the images. This is for the discriminator.\n",
        "        image_one_hot_labels = one_hot_labels[:, :, None, None]\n",
        "        image_one_hot_labels = tf.repeat(\n",
        "            image_one_hot_labels, repeats=[image_size * image_size]\n",
        "        )\n",
        "        image_one_hot_labels = tf.reshape(\n",
        "            image_one_hot_labels, (-1, image_size, image_size, num_classes)\n",
        "        )\n",
        "\n",
        "        # Sample random points in the latent space and concatenate the labels.\n",
        "        # This is for the generator.\n",
        "        batch_size = tf.shape(real_images)[0]\n",
        "        random_latent_vectors = tf.random.normal(\n",
        "            shape=(batch_size, self.latent_dim), seed=self.seed_generator\n",
        "        )\n",
        "        random_vector_labels = tf.concat(\n",
        "            [random_latent_vectors, one_hot_labels], axis=1\n",
        "        )\n",
        "\n",
        "        # Decode the noise (guided by labels) to fake images.\n",
        "        generated_images = self.generator(random_vector_labels)\n",
        "\n",
        "        # Combine them with real images. Note that we are concatenating the labels\n",
        "        # with these images here.\n",
        "        fake_image_and_labels = tf.concat(\n",
        "            [generated_images, image_one_hot_labels], -1\n",
        "        )\n",
        "        real_image_and_labels = tf.concat([real_images, image_one_hot_labels], -1)\n",
        "        combined_images = tf.concat(\n",
        "            [fake_image_and_labels, real_image_and_labels], axis=0\n",
        "        )\n",
        "\n",
        "        # Assemble labels discriminating real from fake images.\n",
        "        labels = tf.concat(\n",
        "            [tf.ones((batch_size, 1)), tf.zeros((batch_size, 1))], axis=0\n",
        "        )\n",
        "\n",
        "        # Train the discriminator.\n",
        "        with tf.GradientTape() as tape:\n",
        "            predictions = self.discriminator(combined_images)\n",
        "            d_loss = self.loss_fn(labels, predictions)\n",
        "        grads = tape.gradient(d_loss, self.discriminator.trainable_weights)\n",
        "        self.d_optimizer.apply_gradients(\n",
        "            zip(grads, self.discriminator.trainable_weights)\n",
        "        )\n",
        "\n",
        "        # Sample random points in the latent space.\n",
        "        random_latent_vectors = tf.random.normal(\n",
        "            shape=(batch_size, self.latent_dim), seed=self.seed_generator\n",
        "        )\n",
        "        random_vector_labels = tf.concat(\n",
        "            [random_latent_vectors, one_hot_labels], axis=1\n",
        "        )\n",
        "\n",
        "        # Assemble labels that say \"all real images\".\n",
        "        misleading_labels = tf.zeros((batch_size, 1))\n",
        "\n",
        "        # Train the generator (note that we should *not* update the weights\n",
        "        # of the discriminator)!\n",
        "        with tf.GradientTape() as tape:\n",
        "            fake_images = self.generator(random_vector_labels)\n",
        "            fake_image_and_labels = tf.concat(\n",
        "                [fake_images, image_one_hot_labels], -1\n",
        "            )\n",
        "            predictions = self.discriminator(fake_image_and_labels)\n",
        "            g_loss = self.loss_fn(misleading_labels, predictions)\n",
        "        grads = tape.gradient(g_loss, self.generator.trainable_weights)\n",
        "        self.g_optimizer.apply_gradients(zip(grads, self.generator.trainable_weights))\n",
        "\n",
        "        # Monitor loss.\n",
        "        self.gen_loss_tracker.update_state(g_loss)\n",
        "        self.disc_loss_tracker.update_state(d_loss)\n",
        "        return {\n",
        "            \"g_loss\": self.gen_loss_tracker.result(),\n",
        "            \"d_loss\": self.disc_loss_tracker.result(),\n",
        "        }"
      ],
      "metadata": {
        "id": "EatXHXY9g4g7"
      },
      "execution_count": 8,
      "outputs": []
    },
    {
      "cell_type": "code",
      "source": [
        "cond_gan = ConditionalGAN(\n",
        "    discriminator=discriminator, generator=generator, latent_dim=latent_dim\n",
        ")\n",
        "cond_gan.compile(\n",
        "    d_optimizer=keras.optimizers.Adam(learning_rate=0.0003),\n",
        "    g_optimizer=keras.optimizers.Adam(learning_rate=0.0003),\n",
        "    loss_fn=keras.losses.BinaryCrossentropy(from_logits=True),\n",
        ")\n",
        "\n",
        "cond_gan.fit(dataset, epochs=20)"
      ],
      "metadata": {
        "colab": {
          "base_uri": "https://localhost:8080/"
        },
        "id": "-cp2TnjlhctQ",
        "outputId": "7ad6dac0-d1c5-4fd1-c7ed-031af9bb33b1"
      },
      "execution_count": 9,
      "outputs": [
        {
          "output_type": "stream",
          "name": "stdout",
          "text": [
            "Epoch 1/20\n",
            "1094/1094 [==============================] - 39s 28ms/step - g_loss: 1.4168 - d_loss: 0.4616\n",
            "Epoch 2/20\n",
            "1094/1094 [==============================] - 31s 28ms/step - g_loss: 1.3799 - d_loss: 0.4836\n",
            "Epoch 3/20\n",
            "1094/1094 [==============================] - 31s 28ms/step - g_loss: 1.5377 - d_loss: 0.4176\n",
            "Epoch 4/20\n",
            "1094/1094 [==============================] - 30s 28ms/step - g_loss: 2.0934 - d_loss: 0.2612\n",
            "Epoch 5/20\n",
            "1094/1094 [==============================] - 30s 28ms/step - g_loss: 2.1205 - d_loss: 0.3043\n",
            "Epoch 6/20\n",
            "1094/1094 [==============================] - 31s 28ms/step - g_loss: 1.0298 - d_loss: 0.6393\n",
            "Epoch 7/20\n",
            "1094/1094 [==============================] - 31s 28ms/step - g_loss: 0.9009 - d_loss: 0.6576\n",
            "Epoch 8/20\n",
            "1094/1094 [==============================] - 30s 28ms/step - g_loss: 0.8509 - d_loss: 0.6679\n",
            "Epoch 9/20\n",
            "1094/1094 [==============================] - 30s 28ms/step - g_loss: 0.8126 - d_loss: 0.6794\n",
            "Epoch 10/20\n",
            "1094/1094 [==============================] - 31s 28ms/step - g_loss: 0.7883 - d_loss: 0.6823\n",
            "Epoch 11/20\n",
            "1094/1094 [==============================] - 31s 28ms/step - g_loss: 0.7806 - d_loss: 0.6849\n",
            "Epoch 12/20\n",
            "1094/1094 [==============================] - 30s 28ms/step - g_loss: 0.7630 - d_loss: 0.6905\n",
            "Epoch 13/20\n",
            "1094/1094 [==============================] - 31s 28ms/step - g_loss: 0.7552 - d_loss: 0.6894\n",
            "Epoch 14/20\n",
            "1094/1094 [==============================] - 31s 28ms/step - g_loss: 0.7556 - d_loss: 0.6871\n",
            "Epoch 15/20\n",
            "1094/1094 [==============================] - 31s 28ms/step - g_loss: 0.7517 - d_loss: 0.6825\n",
            "Epoch 16/20\n",
            "1094/1094 [==============================] - 31s 28ms/step - g_loss: 0.7588 - d_loss: 0.6795\n",
            "Epoch 17/20\n",
            "1094/1094 [==============================] - 30s 28ms/step - g_loss: 0.7548 - d_loss: 0.6818\n",
            "Epoch 18/20\n",
            "1094/1094 [==============================] - 31s 28ms/step - g_loss: 0.7564 - d_loss: 0.6747\n",
            "Epoch 19/20\n",
            "1094/1094 [==============================] - 31s 28ms/step - g_loss: 0.7663 - d_loss: 0.6722\n",
            "Epoch 20/20\n",
            "1094/1094 [==============================] - 31s 28ms/step - g_loss: 0.7794 - d_loss: 0.6640\n"
          ]
        },
        {
          "output_type": "execute_result",
          "data": {
            "text/plain": [
              "<keras.src.callbacks.History at 0x7a73d173db40>"
            ]
          },
          "metadata": {},
          "execution_count": 9
        }
      ]
    },
    {
      "cell_type": "code",
      "source": [
        "# We first extract the trained generator from our Conditional GAN.\n",
        "trained_gen = cond_gan.generator\n",
        "\n",
        "# Choose the number of intermediate images that would be generated in\n",
        "# between the interpolation + 2 (start and last images).\n",
        "num_interpolation = 9  # @param {type:\"integer\"}\n",
        "\n",
        "# Sample noise for the interpolation.\n",
        "interpolation_noise = tf.random.normal(shape=(1, latent_dim))\n",
        "interpolation_noise = tf.repeat(interpolation_noise, repeats=num_interpolation)\n",
        "interpolation_noise = tf.reshape(interpolation_noise, (num_interpolation, latent_dim))\n",
        "\n",
        "\n",
        "def interpolate_class(first_number, second_number):\n",
        "    # Convert the start and end labels to one-hot encoded vectors.\n",
        "    first_label = keras.utils.to_categorical([first_number], num_classes)\n",
        "    second_label = keras.utils.to_categorical([second_number], num_classes)\n",
        "    first_label = tf.cast(first_label, \"float32\")\n",
        "    second_label = tf.cast(second_label, \"float32\")\n",
        "\n",
        "    # Calculate the interpolation vector between the two labels.\n",
        "    percent_second_label = tf.linspace(0, 1, num_interpolation)[:, None]\n",
        "    percent_second_label = tf.cast(percent_second_label, \"float32\")\n",
        "    interpolation_labels = (\n",
        "        first_label * (1 - percent_second_label) + second_label * percent_second_label\n",
        "    )\n",
        "\n",
        "    # Combine the noise and the labels and run inference with the generator.\n",
        "    noise_and_labels = tf.concat([interpolation_noise, interpolation_labels], 1)\n",
        "    fake = trained_gen.predict(noise_and_labels)\n",
        "    return fake\n",
        "\n",
        "\n",
        "start_class = 2  # @param {type:\"slider\", min:0, max:9, step:1}\n",
        "end_class = 6  # @param {type:\"slider\", min:0, max:9, step:1}\n",
        "\n",
        "fake_images = interpolate_class(start_class, end_class)"
      ],
      "metadata": {
        "colab": {
          "base_uri": "https://localhost:8080/"
        },
        "id": "KupY-Tushg0N",
        "outputId": "4b66f31b-8b40-49aa-e215-b5b9984d7b15"
      },
      "execution_count": 10,
      "outputs": [
        {
          "output_type": "stream",
          "name": "stdout",
          "text": [
            "1/1 [==============================] - 0s 391ms/step\n"
          ]
        }
      ]
    },
    {
      "cell_type": "code",
      "source": [
        "fake_images *= 255.0\n",
        "converted_images = fake_images.astype(np.uint8)\n",
        "converted_images = tf.image.resize(converted_images, (96, 96)).numpy().astype(np.uint8)\n",
        "imageio.mimsave(\"animation.gif\", converted_images[:, :, :, 0], fps=1)\n",
        "embed.embed_file(\"animation.gif\")"
      ],
      "metadata": {
        "colab": {
          "base_uri": "https://localhost:8080/",
          "height": 117
        },
        "id": "vEntGdTSjaBG",
        "outputId": "179dfb61-b1d4-4e3a-9ef4-7a407e2dab0d"
      },
      "execution_count": 11,
      "outputs": [
        {
          "output_type": "execute_result",
          "data": {
            "text/plain": [
              "<IPython.core.display.HTML object>"
            ],
            "text/html": [
              "<img src=\"data:image/gif;base64,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\"/>"
            ]
          },
          "metadata": {},
          "execution_count": 11
        }
      ]
    },
    {
      "cell_type": "code",
      "source": [],
      "metadata": {
        "id": "hYC3ei_yjfVF"
      },
      "execution_count": null,
      "outputs": []
    }
  ]
}